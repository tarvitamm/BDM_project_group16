{
 "cells": [
  {
   "cell_type": "markdown",
   "id": "5bcbd7ef-536e-4e14-a1b6-b8676eae567c",
   "metadata": {},
   "source": [
    "# Project 2"
   ]
  },
  {
   "cell_type": "markdown",
   "id": "49419ba6-c59c-4a68-ad70-47c27fabefc4",
   "metadata": {},
   "source": [
    "### Imports"
   ]
  },
  {
   "cell_type": "code",
   "execution_count": 16,
   "id": "14a96bab-99ba-47be-9638-a12d68f0e87b",
   "metadata": {},
   "outputs": [],
   "source": [
    "from pyspark.sql import SparkSession\n",
    "from pyspark.sql.functions import col\n",
    "from pyspark.sql.functions import unix_timestamp\n",
    "from pyspark.sql.functions import max, col, unix_timestamp, lit\n"
   ]
  },
  {
   "cell_type": "markdown",
   "id": "92f562cc-acec-4ed9-b16f-9228f5c9c350",
   "metadata": {},
   "source": [
    "### Query 0 - Data Cleansing and Setup"
   ]
  },
  {
   "cell_type": "code",
   "execution_count": 1,
   "id": "d3aa9bfc-c608-40c9-9511-5e2c08ce439d",
   "metadata": {},
   "outputs": [],
   "source": [
    "spark = SparkSession.builder \\\n",
    "    .appName(\"Project\") \\\n",
    "    .getOrCreate()"
   ]
  },
  {
   "cell_type": "code",
   "execution_count": 8,
   "id": "2435c26d-88b0-4941-af68-99a8b28548ab",
   "metadata": {},
   "outputs": [],
   "source": [
    "df_small = spark.read.csv(\"input/sorted_data_smaller.csv\", header=False, inferSchema=True)"
   ]
  },
  {
   "cell_type": "code",
   "execution_count": 9,
   "id": "847a9407-5b54-4d93-b4a9-39269cee9af9",
   "metadata": {},
   "outputs": [],
   "source": [
    "columns = [\n",
    "    \"medallion\",\n",
    "    \"hack_license\",\n",
    "    \"pickup_datetime\",\n",
    "    \"dropoff_datetime\",\n",
    "    \"trip_time_in_secs\",\n",
    "    \"trip_distance\",\n",
    "    \"pickup_longitude\",\n",
    "    \"pickup_latitude\",\n",
    "    \"dropoff_longitude\",\n",
    "    \"dropoff_latitude\",\n",
    "    \"payment_type\",\n",
    "    \"fare_amount\",\n",
    "    \"surcharge\",\n",
    "    \"mta_tax\",\n",
    "    \"tip_amount\",\n",
    "    \"tolls_amount\",\n",
    "    \"total_amount\"\n",
    "]\n",
    "df_small = df_small.toDF(*columns)"
   ]
  },
  {
   "cell_type": "code",
   "execution_count": null,
   "id": "bdac0318-8aa6-4a00-8afa-2ab6268cafa5",
   "metadata": {},
   "outputs": [],
   "source": [
    "df_small.show(5)  # See the first 5 rows\n",
    "df_small.printSchema()"
   ]
  },
  {
   "cell_type": "code",
   "execution_count": 15,
   "id": "c5bddfde-a1de-444a-b5e4-5b65154c9752",
   "metadata": {},
   "outputs": [],
   "source": [
    "\n",
    "# Remove rows with missing or 0.0 coordinates\n",
    "df_clean = df_small.filter(\n",
    "    (col(\"pickup_longitude\").isNotNull()) & (col(\"pickup_longitude\") != 0.0) &\n",
    "    (col(\"pickup_latitude\").isNotNull()) & (col(\"pickup_latitude\") != 0.0) &\n",
    "    (col(\"dropoff_longitude\").isNotNull()) & (col(\"dropoff_longitude\") != 0.0) &\n",
    "    (col(\"dropoff_latitude\").isNotNull()) & (col(\"dropoff_latitude\") != 0.0)\n",
    ")\n",
    "\n",
    "# Remove rows with missing medallions or licenses\n",
    "df_clean = df_clean.filter(\n",
    "    (col(\"medallion\").isNotNull()) & (col(\"medallion\") != \"\") &\n",
    "    (col(\"hack_license\").isNotNull()) & (col(\"hack_license\") != \"\")\n",
    ")\n",
    "# Tme Model - this supports time-based queries\n",
    "df_clean = df_clean.withColumn(\"pickup_ts\", unix_timestamp(\"pickup_datetime\")) \\\n",
    "                   .withColumn(\"dropoff_ts\", unix_timestamp(\"dropoff_datetime\"))"
   ]
  },
  {
   "cell_type": "code",
   "execution_count": 21,
   "id": "8067d3c4-b024-403a-ad10-4c6fc97a9dfa",
   "metadata": {},
   "outputs": [
    {
     "name": "stdout",
     "output_type": "stream",
     "text": [
      "Original row count: 14432092\n",
      "Cleaned row count: 14186504\n"
     ]
    }
   ],
   "source": [
    "print(\"Original row count:\", df_small.count())\n",
    "print(\"Cleaned row count:\", df_clean.count())"
   ]
  },
  {
   "cell_type": "markdown",
   "id": "4bce39cf-d612-4697-a407-e3ce6dc00564",
   "metadata": {},
   "source": [
    "### Query 1: Frequent Routes"
   ]
  },
  {
   "cell_type": "code",
   "execution_count": null,
   "id": "bb4660c5-7088-4807-8f0e-8c1c5cd35150",
   "metadata": {},
   "outputs": [],
   "source": []
  }
 ],
 "metadata": {
  "kernelspec": {
   "display_name": "Python 3 (ipykernel)",
   "language": "python",
   "name": "python3"
  },
  "language_info": {
   "codemirror_mode": {
    "name": "ipython",
    "version": 3
   },
   "file_extension": ".py",
   "mimetype": "text/x-python",
   "name": "python",
   "nbconvert_exporter": "python",
   "pygments_lexer": "ipython3",
   "version": "3.11.10"
  }
 },
 "nbformat": 4,
 "nbformat_minor": 5
}
