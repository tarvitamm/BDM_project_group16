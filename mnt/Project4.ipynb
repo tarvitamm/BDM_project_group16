{
 "cells": [
  {
   "cell_type": "markdown",
   "metadata": {},
   "source": [
    "# Project 4\n"
   ]
  },
  {
   "cell_type": "markdown",
   "metadata": {},
   "source": [
    "## 1. Data Ingestion and Preparation\n",
    "\n"
   ]
  },
  {
   "cell_type": "code",
   "execution_count": 1,
   "metadata": {},
   "outputs": [],
   "source": [
    "import os\n",
    "os.environ[\"PYSPARK_SUBMIT_ARGS\"] = \"--conf spark.executorEnv.PYTHONNOUSERSITE=true pyspark-shell\""
   ]
  },
  {
   "cell_type": "code",
   "execution_count": 2,
   "metadata": {},
   "outputs": [
    {
     "name": "stderr",
     "output_type": "stream",
     "text": [
      "25/05/09 15:36:10 WARN Utils: Your hostname, markus-XPS-15-9530 resolves to a loopback address: 127.0.1.1; using 192.168.1.114 instead (on interface wlp0s20f3)\n",
      "25/05/09 15:36:10 WARN Utils: Set SPARK_LOCAL_IP if you need to bind to another address\n",
      "Ivy Default Cache set to: /home/markus/.ivy2/cache\n",
      "The jars for the packages stored in: /home/markus/.ivy2/jars\n",
      "io.delta#delta-core_2.12 added as a dependency\n",
      "graphframes#graphframes added as a dependency\n",
      ":: resolving dependencies :: org.apache.spark#spark-submit-parent-13d1a25c-4437-4d63-846e-64af75deb878;1.0\n",
      "\tconfs: [default]\n"
     ]
    },
    {
     "name": "stdout",
     "output_type": "stream",
     "text": [
      ":: loading settings :: url = jar:file:/home/markus/kool/BDM_project_group16/env/lib/python3.12/site-packages/pyspark/jars/ivy-2.5.1.jar!/org/apache/ivy/core/settings/ivysettings.xml\n"
     ]
    },
    {
     "name": "stderr",
     "output_type": "stream",
     "text": [
      "\tfound io.delta#delta-core_2.12;2.4.0 in central\n",
      "\tfound io.delta#delta-storage;2.4.0 in central\n",
      "\tfound org.antlr#antlr4-runtime;4.9.3 in central\n",
      "\tfound graphframes#graphframes;0.8.4-spark3.5-s_2.12 in spark-packages\n",
      "\tfound org.slf4j#slf4j-api;1.7.16 in central\n",
      ":: resolution report :: resolve 120ms :: artifacts dl 4ms\n",
      "\t:: modules in use:\n",
      "\tgraphframes#graphframes;0.8.4-spark3.5-s_2.12 from spark-packages in [default]\n",
      "\tio.delta#delta-core_2.12;2.4.0 from central in [default]\n",
      "\tio.delta#delta-storage;2.4.0 from central in [default]\n",
      "\torg.antlr#antlr4-runtime;4.9.3 from central in [default]\n",
      "\torg.slf4j#slf4j-api;1.7.16 from central in [default]\n",
      "\t---------------------------------------------------------------------\n",
      "\t|                  |            modules            ||   artifacts   |\n",
      "\t|       conf       | number| search|dwnlded|evicted|| number|dwnlded|\n",
      "\t---------------------------------------------------------------------\n",
      "\t|      default     |   5   |   0   |   0   |   0   ||   5   |   0   |\n",
      "\t---------------------------------------------------------------------\n",
      ":: retrieving :: org.apache.spark#spark-submit-parent-13d1a25c-4437-4d63-846e-64af75deb878\n",
      "\tconfs: [default]\n",
      "\t0 artifacts copied, 5 already retrieved (0kB/4ms)\n",
      "25/05/09 15:36:10 WARN NativeCodeLoader: Unable to load native-hadoop library for your platform... using builtin-java classes where applicable\n",
      "Setting default log level to \"WARN\".\n",
      "To adjust logging level use sc.setLogLevel(newLevel). For SparkR, use setLogLevel(newLevel).\n"
     ]
    }
   ],
   "source": [
    "import pyspark\n",
    "from pyspark.sql import SparkSession\n",
    "\n",
    "from pyspark.sql import SparkSession\n",
    "\n",
    "spark = SparkSession.builder \\\n",
    "    .appName(\"Graphs_Practice\") \\\n",
    "    .config(\"spark.driver.memory\", \"6g\") \\\n",
    "    .config(\"spark.executor.memory\", \"6g\") \\\n",
    "    .config(\"spark.sql.shuffle.partitions\", \"8\") \\\n",
    "    .config(\"spark.jars.packages\", \"io.delta:delta-core_2.12:2.4.0,graphframes:graphframes:0.8.4-spark3.5-s_2.12\") \\\n",
    "    .config(\"spark.sql.extensions\", \"io.delta.sql.DeltaSparkSessionExtension\") \\\n",
    "    .config(\"spark.sql.catalog.spark_catalog\", \"org.apache.spark.sql.delta.catalog.DeltaCatalog\") \\\n",
    "    .getOrCreate()\n",
    "\n"
   ]
  },
  {
   "cell_type": "code",
   "execution_count": 3,
   "metadata": {},
   "outputs": [
    {
     "name": "stderr",
     "output_type": "stream",
     "text": [
      "                                                                                \r"
     ]
    },
    {
     "data": {
      "text/plain": [
       "DataFrame[FL_DATE: date, OP_CARRIER: string, OP_CARRIER_FL_NUM: int, ORIGIN: string, DEST: string, CRS_DEP_TIME: int, DEP_TIME: double, DEP_DELAY: double, TAXI_OUT: double, WHEELS_OFF: double, WHEELS_ON: double, TAXI_IN: double, CRS_ARR_TIME: int, ARR_TIME: double, ARR_DELAY: double, CANCELLED: double, CANCELLATION_CODE: string, DIVERTED: double, CRS_ELAPSED_TIME: double, ACTUAL_ELAPSED_TIME: double, AIR_TIME: double, DISTANCE: double, CARRIER_DELAY: double, WEATHER_DELAY: double, NAS_DELAY: double, SECURITY_DELAY: double, LATE_AIRCRAFT_DELAY: double, Unnamed: 27: string]"
      ]
     },
     "metadata": {},
     "output_type": "display_data"
    }
   ],
   "source": [
    "flight_df = spark.read.csv(\"2009.csv\", header=True, inferSchema=True)\n",
    "display(flight_df)\n"
   ]
  },
  {
   "cell_type": "markdown",
   "metadata": {},
   "source": [
    "## 2. Cleaning and Preprocessing"
   ]
  },
  {
   "cell_type": "code",
   "execution_count": null,
   "metadata": {},
   "outputs": [
    {
     "name": "stderr",
     "output_type": "stream",
     "text": [
      "25/05/09 15:36:19 WARN SparkStringUtils: Truncated the string representation of a plan since it was too large. This behavior can be adjusted by setting 'spark.sql.debug.maxToStringFields'.\n",
      "                                                                                \r"
     ]
    }
   ],
   "source": [
    "from pyspark.sql.functions import col, year, month, dayofweek, to_date\n",
    "\n",
    "flight_df = flight_df.withColumn(\"FL_DATE\", to_date(col(\"FL_DATE\"), \"yyyy-MM-dd\"))\n",
    "df_2009 = flight_df.filter(year(col(\"FL_DATE\")) == 2009)\n",
    "renamed_df = df_2009.withColumnRenamed(\"OP_CARRIER\", \"UniqueCarrier\").withColumnRenamed(\"OP_CARRIER_FL_NUM\", \"FlightNum\")\n",
    "df_features = renamed_df.withColumn(\"DayOfWeek\", dayofweek(col(\"FL_DATE\"))) .withColumn(\"Month\", month(col(\"FL_DATE\")))\n",
    "\n",
    "key_columns = [\"UniqueCarrier\", \"FlightNum\", \"ORIGIN\", \"DEST\", \"CRS_DEP_TIME\", \"CRS_ARR_TIME\"]\n",
    "df_clean = df_features.dropna(subset=key_columns)\n",
    "\n",
    "final_df = df_clean.filter(col(\"DIVERTED\") == 0)\n",
    "\n",
    "# Since we did it mostly on vscode and not the jupyter localhost env, the csvs are kept in the same directory and read as such\n",
    "# if you prefer to use them in the env, you can use the following code to read them\n",
    "# output_path = \"input/2009_clean\"\n",
    "output_path = \"2009_clean\"\n",
    "final_df.write.mode(\"overwrite\").partitionBy(\"Month\", \"DayOfWeek\").parquet(output_path)"
   ]
  },
  {
   "cell_type": "markdown",
   "metadata": {},
   "source": [
    "## 3. Exploratory Analysis"
   ]
  },
  {
   "cell_type": "code",
   "execution_count": null,
   "metadata": {},
   "outputs": [
    {
     "name": "stdout",
     "output_type": "stream",
     "text": [
      "Top 10 Carriers by Flight Count:\n",
      "+-------------+------------+\n",
      "|UniqueCarrier|flight_count|\n",
      "+-------------+------------+\n",
      "|           WN|     1127045|\n",
      "|           AA|      548194|\n",
      "|           OO|      544843|\n",
      "|           MQ|      434577|\n",
      "|           DL|      424982|\n",
      "|           US|      411274|\n",
      "|           UA|      375501|\n",
      "|           XE|      308340|\n",
      "|           EV|      297874|\n",
      "|           NW|      291856|\n",
      "+-------------+------------+\n",
      "only showing top 10 rows\n",
      "\n"
     ]
    }
   ],
   "source": [
    "from pyspark.sql.functions import col, count\n",
    "\n",
    "df = spark.read.parquet(\"2009_clean\")\n",
    "\n",
    "top_carriers = df.groupBy(\"UniqueCarrier\").agg(count(\"*\").alias(\"flight_count\")) \\\n",
    "                 .orderBy(col(\"flight_count\").desc())\n",
    "\n",
    "print(\"Top 10 Carriers by Flight Count:\")\n",
    "top_carriers.show(10)\n"
   ]
  },
  {
   "cell_type": "code",
   "execution_count": null,
   "metadata": {},
   "outputs": [
    {
     "data": {
      "image/png": "[encoded data removed]",
      "text/plain": [
       "<Figure size 800x600 with 1 Axes>"
      ]
     },
     "metadata": {},
     "output_type": "display_data"
    }
   ],
   "source": [
    "import pandas as pd\n",
    "import matplotlib.pyplot as plt\n",
    "\n",
    "\n",
    "cancelled_flights = df.filter(col(\"CANCELLED\") == 1)\n",
    "\n",
    "cancel_reason_distribution = cancelled_flights.groupBy(\"CANCELLATION_CODE\") \\\n",
    "                                              .agg(count(\"*\").alias(\"cancel_count\")) \\\n",
    "                                              .orderBy(col(\"cancel_count\").desc())\n",
    "\n",
    "\n",
    "cancel_reason_pd = cancel_reason_distribution.toPandas()\n",
    "\n",
    "plt.figure(figsize=(8, 6))\n",
    "plt.bar(cancel_reason_pd['CANCELLATION_CODE'], cancel_reason_pd['cancel_count'], color='skyblue')\n",
    "plt.xlabel('Cancellation Code')\n",
    "plt.ylabel('Number of Cancelled Flights')\n",
    "plt.title('Cancellation Reasons')\n",
    "plt.grid(axis='y', linestyle='--', alpha=0.7)\n",
    "plt.show()"
   ]
  },
  {
   "cell_type": "code",
   "execution_count": null,
   "metadata": {},
   "outputs": [
    {
     "data": {
      "image/png": "[encoded data removed]",
      "text/plain": [
       "<Figure size 600x600 with 1 Axes>"
      ]
     },
     "metadata": {},
     "output_type": "display_data"
    }
   ],
   "source": [
    "class_distribution = df.groupBy(\"CANCELLED\") \\\n",
    "                       .agg(count(\"*\").alias(\"count\")) \\\n",
    "                       .orderBy(col(\"CANCELLED\").desc())\n",
    "class_distribution_pd = class_distribution.toPandas()\n",
    "\n",
    "class_distribution_pd['Status'] = class_distribution_pd['CANCELLED'].map({\n",
    "    0: 'Not Cancelled',\n",
    "    1: 'Cancelled'\n",
    "})\n",
    "\n",
    "plt.figure(figsize=(6, 6))\n",
    "plt.bar(class_distribution_pd['Status'], class_distribution_pd['count'], color=['red', 'green'])\n",
    "plt.xlabel('Flight Status')\n",
    "plt.ylabel('Number of Flights')\n",
    "plt.title('Class imbalance')\n",
    "plt.grid(axis='y', linestyle='--', alpha=0.7)\n",
    "plt.show()"
   ]
  },
  {
   "cell_type": "markdown",
   "metadata": {},
   "source": [
    "## 4. Feature Engineering"
   ]
  },
  {
   "cell_type": "code",
   "execution_count": null,
   "metadata": {
    "scrolled": true
   },
   "outputs": [
    {
     "name": "stdout",
     "output_type": "stream",
     "text": [
      "Categorical columns to be indexed and one-hot encoded:\n",
      "['UniqueCarrier', 'ORIGIN', 'DEST']\n",
      "Final feature columns (categorical encoded + numeric):\n",
      "['UniqueCarrier_Vec', 'ORIGIN_Vec', 'DEST_Vec', 'FlightNum', 'CRS_DEP_TIME', 'CRS_ARR_TIME', 'DayOfWeek', 'Month', 'DISTANCE']\n"
     ]
    },
    {
     "name": "stderr",
     "output_type": "stream",
     "text": [
      "                                                                                \r"
     ]
    },
    {
     "name": "stdout",
     "output_type": "stream",
     "text": [
      "+------------------------------------------------------------------------------------------+---------+\n",
      "|features                                                                                  |CANCELLED|\n",
      "+------------------------------------------------------------------------------------------+---------+\n",
      "|(617,[10,66,315,611,612,613,614,615,616],[1.0,1.0,1.0,852.0,830.0,1055.0,4.0,9.0,425.0])  |0.0      |\n",
      "|(617,[10,19,433,611,612,613,614,615,616],[1.0,1.0,1.0,854.0,2006.0,2240.0,4.0,9.0,1027.0])|0.0      |\n",
      "|(617,[10,63,315,611,612,613,614,615,616],[1.0,1.0,1.0,854.0,1605.0,1927.0,4.0,9.0,813.0]) |0.0      |\n",
      "|(617,[10,19,339,611,612,613,614,615,616],[1.0,1.0,1.0,855.0,1130.0,1202.0,4.0,9.0,332.0]) |0.0      |\n",
      "|(617,[10,43,315,611,612,613,614,615,616],[1.0,1.0,1.0,855.0,1240.0,1501.0,4.0,9.0,332.0]) |0.0      |\n",
      "+------------------------------------------------------------------------------------------+---------+\n",
      "only showing top 5 rows\n",
      "\n"
     ]
    }
   ],
   "source": [
    "from pyspark.ml.feature import StringIndexer, OneHotEncoder, VectorAssembler\n",
    "from pyspark.ml import Pipeline\n",
    "\n",
    "df = spark.read.parquet(\"2009_clean\")\n",
    "\n",
    "feature_cols = [\n",
    "    \"UniqueCarrier\", \"FlightNum\", \"ORIGIN\", \"DEST\", \n",
    "    \"CRS_DEP_TIME\", \"CRS_ARR_TIME\", \"DayOfWeek\", \"Month\", \"DISTANCE\"\n",
    "]\n",
    "\n",
    "categorical_cols = [\"UniqueCarrier\", \"ORIGIN\", \"DEST\"]\n",
    "\n",
    "print(\"Categorical columns to be indexed and one-hot encoded:\")\n",
    "print(categorical_cols)\n",
    "\n",
    "indexers = [StringIndexer(inputCol=col, outputCol=col + \"_Index\", handleInvalid=\"keep\") for col in categorical_cols]\n",
    "\n",
    "encoders = [OneHotEncoder(inputCol=col + \"_Index\", outputCol=col + \"_Vec\") for col in categorical_cols]\n",
    "\n",
    "\n",
    "final_features = [col + \"_Vec\" for col in categorical_cols] + [\"FlightNum\", \"CRS_DEP_TIME\", \"CRS_ARR_TIME\", \"DayOfWeek\", \"Month\", \"DISTANCE\"]\n",
    "\n",
    "print(\"Final feature columns (categorical encoded + numeric):\")\n",
    "print(final_features)\n",
    "\n",
    "assembler = VectorAssembler(inputCols=final_features, outputCol=\"features\")\n",
    "\n",
    "pipeline = Pipeline(stages=indexers + encoders + [assembler])\n",
    "\n",
    "pipeline_model = pipeline.fit(df)\n",
    "prepared_df = pipeline_model.transform(df)\n",
    "\n",
    "prepared_df.select(\"features\", \"CANCELLED\").show(5, truncate=False)\n"
   ]
  },
  {
   "cell_type": "markdown",
   "metadata": {},
   "source": [
    "## 5. Modeling"
   ]
  },
  {
   "cell_type": "code",
   "execution_count": 9,
   "metadata": {},
   "outputs": [],
   "source": [
    "# COMMENT OUT THIS VERSION\n",
    "# from pyspark.ml.classification import (\n",
    "#     LogisticRegression,\n",
    "#     DecisionTreeClassifier,\n",
    "#     RandomForestClassifier,\n",
    "#     GBTClassifier,\n",
    "# )\n",
    "# from pyspark.ml.evaluation import (\n",
    "#     BinaryClassificationEvaluator,\n",
    "#     MulticlassClassificationEvaluator,\n",
    "# )\n",
    "\n",
    "# data = prepared_df.withColumnRenamed(\"CANCELLED\", \"label\")\\\n",
    "#                   .select(\"features\", \"label\")  \n",
    "# train_df, test_df = data.randomSplit([0.7, 0.3], seed=42)\n",
    "\n",
    "# lr  = LogisticRegression(featuresCol=\"features\", labelCol=\"label\", regParam=0.01)\n",
    "# dt  = DecisionTreeClassifier(featuresCol=\"features\", labelCol=\"label\", maxDepth=5)\n",
    "# rf  = RandomForestClassifier(featuresCol=\"features\", labelCol=\"label\", numTrees=20)\n",
    "# gbt = GBTClassifier(featuresCol=\"features\", labelCol=\"label\", maxIter=10)\n",
    "\n",
    "# binary_evaluator = BinaryClassificationEvaluator(\n",
    "#     labelCol=\"label\", metricName=\"areaUnderROC\"\n",
    "# )\n",
    "# acc_evaluator = MulticlassClassificationEvaluator(\n",
    "#     labelCol=\"label\", metricName=\"accuracy\"\n",
    "# )\n",
    "\n",
    "# models = {\n",
    "#     \"LogisticRegression\": lr.fit(train_df),\n",
    "#     \"DecisionTree\"      : dt.fit(train_df),\n",
    "#     \"RandomForest\"      : rf.fit(train_df),\n",
    "#     \"GBT\"               : gbt.fit(train_df),\n",
    "# }\n",
    "\n",
    "# print(f\"{'Model':<20}  {'Test AUC':>8}  {'Test Acc':>8}\")\n",
    "# for name, model in models.items():\n",
    "#     preds = model.transform(test_df)\n",
    "#     auc  = binary_evaluator.evaluate(preds)\n",
    "#     acc  = acc_evaluator.evaluate(preds)\n",
    "#     print(f\"{name:<20}  {auc:8.4f}  {acc:8.4f}\")"
   ]
  },
  {
   "cell_type": "code",
   "execution_count": null,
   "metadata": {},
   "outputs": [
    {
     "name": "stderr",
     "output_type": "stream",
     "text": [
      "                                                                                \r"
     ]
    },
    {
     "name": "stdout",
     "output_type": "stream",
     "text": [
      "Model                 Test AUC  Test Acc\n",
      "Training LogisticRegression...\n"
     ]
    },
    {
     "name": "stderr",
     "output_type": "stream",
     "text": [
      "                                                                                \r"
     ]
    },
    {
     "name": "stdout",
     "output_type": "stream",
     "text": [
      "LogisticRegression      0.6995    0.9865\n",
      "Training DecisionTree...\n"
     ]
    },
    {
     "name": "stderr",
     "output_type": "stream",
     "text": [
      "                                                                                \r"
     ]
    },
    {
     "name": "stdout",
     "output_type": "stream",
     "text": [
      "DecisionTree            0.4009    0.9865\n",
      "Training RandomForest...\n"
     ]
    },
    {
     "name": "stderr",
     "output_type": "stream",
     "text": [
      "                                                                                \r"
     ]
    },
    {
     "name": "stdout",
     "output_type": "stream",
     "text": [
      "RandomForest            0.6316    0.9865\n",
      "Training GBT...\n"
     ]
    },
    {
     "name": "stderr",
     "output_type": "stream",
     "text": [
      "[Stage 4084:==========================================>           (15 + 4) / 19]\r"
     ]
    },
    {
     "name": "stdout",
     "output_type": "stream",
     "text": [
      "GBT                     0.7255    0.9865\n"
     ]
    },
    {
     "name": "stderr",
     "output_type": "stream",
     "text": [
      "                                                                                \r"
     ]
    }
   ],
   "source": [
    "# UNCOMMENT FOR CROSSVALIDATION EDITION\n",
    "from pyspark.ml.tuning import CrossValidator, ParamGridBuilder\n",
    "\n",
    "from pyspark.ml.classification import (\n",
    "    LogisticRegression,\n",
    "    DecisionTreeClassifier,\n",
    "    RandomForestClassifier,\n",
    "    GBTClassifier,\n",
    ")\n",
    "from pyspark.ml.evaluation import (\n",
    "    BinaryClassificationEvaluator,\n",
    "    MulticlassClassificationEvaluator,\n",
    ")\n",
    "\n",
    "\n",
    "data = prepared_df.withColumnRenamed(\"CANCELLED\", \"label\")\\\n",
    "                  .select(\"features\", \"label\")  \n",
    "train_df, test_df = data.randomSplit([0.7, 0.3], seed=42)\n",
    "\n",
    "train_df = train_df.sample(fraction=0.1, seed=42)\n",
    "test_df = test_df.sample(fraction=0.1, seed=42)\n",
    "\n",
    "\n",
    "lr  = LogisticRegression(featuresCol=\"features\", labelCol=\"label\")\n",
    "dt  = DecisionTreeClassifier(featuresCol=\"features\", labelCol=\"label\")\n",
    "rf  = RandomForestClassifier(featuresCol=\"features\", labelCol=\"label\")\n",
    "gbt = GBTClassifier(featuresCol=\"features\", labelCol=\"label\")\n",
    "\n",
    "lr_grid  = ParamGridBuilder()\\\n",
    "           .addGrid(lr.regParam, [0.01, 0.1])\\\n",
    "           .build()\n",
    "\n",
    "dt_grid  = ParamGridBuilder()\\\n",
    "           .addGrid(dt.maxDepth, [5, 10])\\\n",
    "           .build()\n",
    "\n",
    "rf_grid  = ParamGridBuilder()\\\n",
    "           .addGrid(rf.numTrees, [20, 50])\\\n",
    "           .build()\n",
    "\n",
    "gbt_grid = ParamGridBuilder()\\\n",
    "           .addGrid(gbt.maxIter, [10, 20])\\\n",
    "           .build()\n",
    "\n",
    "binary_evaluator = BinaryClassificationEvaluator(\n",
    "    labelCol=\"label\", metricName=\"areaUnderROC\"\n",
    ")\n",
    "acc_evaluator = MulticlassClassificationEvaluator(\n",
    "    labelCol=\"label\", metricName=\"accuracy\"\n",
    ")\n",
    "\n",
    "cv_lr  = CrossValidator(estimator=lr,  estimatorParamMaps=lr_grid,  evaluator=binary_evaluator, numFolds=3, parallelism=1)\n",
    "cv_dt  = CrossValidator(estimator=dt,  estimatorParamMaps=dt_grid,  evaluator=binary_evaluator, numFolds=3, parallelism=1)\n",
    "cv_rf  = CrossValidator(estimator=rf,  estimatorParamMaps=rf_grid,  evaluator=binary_evaluator, numFolds=3, parallelism=1)\n",
    "cv_gbt = CrossValidator(estimator=gbt, estimatorParamMaps=gbt_grid, evaluator=binary_evaluator, numFolds=3, parallelism=1)\n",
    "\n",
    "models = {\n",
    "    \"LogisticRegression\": cv_lr.fit(train_df),\n",
    "    \"DecisionTree\"      : cv_dt.fit(train_df),\n",
    "    \"RandomForest\"      : cv_rf.fit(train_df),\n",
    "    \"GBT\"               : cv_gbt.fit(train_df),\n",
    "}\n",
    "\n",
    "print(f\"{'Model':<20}  {'Test AUC':>8}  {'Test Acc':>8}\")\n",
    "models = {}\n",
    "\n",
    "for name, cv in [\n",
    "    (\"LogisticRegression\", cv_lr),\n",
    "    (\"DecisionTree\", cv_dt),\n",
    "    (\"RandomForest\", cv_rf),\n",
    "    (\"GBT\", cv_gbt),\n",
    "]:\n",
    "    print(f\"Training {name}...\")\n",
    "    model = cv.fit(train_df)\n",
    "    models[name] = model\n",
    "\n",
    "    preds = model.transform(test_df)\n",
    "    auc = binary_evaluator.evaluate(preds)\n",
    "    acc = acc_evaluator.evaluate(preds)\n",
    "\n",
    "    print(f\"{name:<20}  {auc:8.4f}  {acc:8.4f}\")\n",
    "\n"
   ]
  },
  {
   "cell_type": "markdown",
   "metadata": {},
   "source": [
    "## 6. Explainability"
   ]
  },
  {
   "cell_type": "code",
   "execution_count": 11,
   "metadata": {},
   "outputs": [],
   "source": [
    "# COMMENT OUT THIS VERSION\n",
    "# tree_models = {k: v for k, v in models.items() if k in [\"RandomForest\", \"GBT\"]}\n",
    "\n",
    "# best_tree_name = None\n",
    "# best_auc = -1\n",
    "# for name, model in tree_models.items():\n",
    "#     preds = model.transform(test_df)\n",
    "#     auc = binary_evaluator.evaluate(preds)\n",
    "#     print(f\"{name} AUC: {auc:.4f}\")\n",
    "#     if auc > best_auc:\n",
    "#         best_auc = auc\n",
    "#         best_tree_name = name\n",
    "\n",
    "# best_tree_model = tree_models[best_tree_name]\n",
    "# print(f\"\\n Best tree-based model: {best_tree_name}\")"
   ]
  },
  {
   "cell_type": "code",
   "execution_count": 12,
   "metadata": {},
   "outputs": [
    {
     "name": "stderr",
     "output_type": "stream",
     "text": [
      "                                                                                \r"
     ]
    },
    {
     "name": "stdout",
     "output_type": "stream",
     "text": [
      "RandomForest AUC: 0.6316\n"
     ]
    },
    {
     "name": "stderr",
     "output_type": "stream",
     "text": [
      "[Stage 4097:===================================================>  (18 + 1) / 19]\r"
     ]
    },
    {
     "name": "stdout",
     "output_type": "stream",
     "text": [
      "GBT AUC: 0.7254\n",
      "\n",
      "Best tree-based model: GBT\n"
     ]
    },
    {
     "name": "stderr",
     "output_type": "stream",
     "text": [
      "                                                                                \r"
     ]
    }
   ],
   "source": [
    "# UNCOMMENT FOR CROSSVALIDATION EDITION\n",
    "tree_models = {k: v for k, v in models.items() if k in [\"RandomForest\", \"GBT\"]}\n",
    "\n",
    "best_tree_name = None\n",
    "best_auc = -1\n",
    "for name, cv_model in tree_models.items():\n",
    "    preds = cv_model.bestModel.transform(test_df)\n",
    "    auc = binary_evaluator.evaluate(preds)\n",
    "    print(f\"{name} AUC: {auc:.4f}\")\n",
    "    if auc > best_auc:\n",
    "        best_auc = auc\n",
    "        best_tree_name = name\n",
    "\n",
    "best_tree_model = tree_models[best_tree_name].bestModel\n",
    "print(f\"\\nBest tree-based model: {best_tree_name}\")\n"
   ]
  },
  {
   "cell_type": "code",
   "execution_count": null,
   "metadata": {},
   "outputs": [
    {
     "name": "stdout",
     "output_type": "stream",
     "text": [
      "                  feature  importance\n",
      "615                 Month    0.206481\n",
      "614             DayOfWeek    0.072812\n",
      "612          CRS_DEP_TIME    0.066833\n",
      "611             FlightNum    0.066463\n",
      "616              DISTANCE    0.066125\n",
      "334          DEST_Vec_LGA    0.055782\n",
      "613          CRS_ARR_TIME    0.036720\n",
      "0    UniqueCarrier_Vec_WN    0.036565\n",
      "38         ORIGIN_Vec_LGA    0.035039\n",
      "33         ORIGIN_Vec_EWR    0.032805\n"
     ]
    },
    {
     "data": {
      "image/png": "[encoded data removed]",
      "text/plain": [
       "<Figure size 1000x600 with 1 Axes>"
      ]
     },
     "metadata": {},
     "output_type": "display_data"
    }
   ],
   "source": [
    "attrs = prepared_df.schema[\"features\"].metadata[\"ml_attr\"][\"attrs\"]\n",
    "\n",
    "all_attrs = attrs.get(\"binary\", []) + attrs.get(\"numeric\", [])\n",
    "all_attrs = sorted(all_attrs, key=lambda x: x[\"idx\"])\n",
    "\n",
    "vector_feature_names = [a[\"name\"] for a in all_attrs]\n",
    "\n",
    "importance_df = pd.DataFrame({\n",
    "    \"feature\": vector_feature_names,\n",
    "    \"importance\": best_tree_model.featureImportances.toArray()\n",
    "}).sort_values(\"importance\", ascending=False)\n",
    "\n",
    "top10 = importance_df.head(10)\n",
    "print(top10)\n",
    "\n",
    "plt.figure(figsize=(10,6))\n",
    "plt.barh(top10[\"feature\"][::-1], top10[\"importance\"][::-1], color=\"skyblue\")\n",
    "plt.xlabel(\"Importance\")\n",
    "plt.title(f\"Top 10 Feature Importances ({best_tree_name})\")\n",
    "plt.tight_layout()\n",
    "plt.show()"
   ]
  },
  {
   "cell_type": "markdown",
   "metadata": {},
   "source": [
    "## 7. Model Persistence and Inference"
   ]
  },
  {
   "cell_type": "code",
   "execution_count": 14,
   "metadata": {},
   "outputs": [
    {
     "name": "stdout",
     "output_type": "stream",
     "text": [
      "Full pipeline + model saved to 'model/best_pipeline_model'\n"
     ]
    },
    {
     "name": "stderr",
     "output_type": "stream",
     "text": [
      "WARNING: An illegal reflective access operation has occurred                    \n",
      "WARNING: Illegal reflective access by org.apache.spark.util.SizeEstimator$ (file:/home/markus/kool/BDM_project_group16/env/lib/python3.12/site-packages/pyspark/jars/spark-core_2.12-3.5.5.jar) to field java.math.BigInteger.mag\n",
      "WARNING: Please consider reporting this to the maintainers of org.apache.spark.util.SizeEstimator$\n",
      "WARNING: Use --illegal-access=warn to enable warnings of further illegal reflective access operations\n",
      "WARNING: All illegal access operations will be denied in a future release\n"
     ]
    }
   ],
   "source": [
    "from pyspark.ml import PipelineModel\n",
    "\n",
    "full_pipe = PipelineModel(\n",
    "    stages = pipeline_model.stages   \n",
    "           + [ best_tree_model ]\n",
    ")\n",
    "\n",
    "full_pipe.write().overwrite().save(\"model/best_pipeline_model\")  \n",
    "print(\"Full pipeline + model saved to 'model/best_pipeline_model'\")\n",
    "loaded_pipe = PipelineModel.load(\"model/best_pipeline_model\")\n"
   ]
  },
  {
   "cell_type": "code",
   "execution_count": 15,
   "metadata": {},
   "outputs": [
    {
     "name": "stderr",
     "output_type": "stream",
     "text": [
      "                                                                                \r"
     ]
    }
   ],
   "source": [
    "from pyspark.sql.functions import col, to_date, year, month, dayofweek\n",
    "\n",
    "df10_raw = spark.read.csv(\"2010.csv\", header=True, inferSchema=True)\n",
    "\n",
    "df10 = (\n",
    "    df10_raw\n",
    "      .withColumn(\"FL_DATE\", to_date(col(\"FL_DATE\"), \"yyyy-MM-dd\"))\n",
    "      .filter(year(\"FL_DATE\")==2010)\n",
    "      .withColumnRenamed(\"OP_CARRIER\", \"UniqueCarrier\")\n",
    "      .withColumnRenamed(\"OP_CARRIER_FL_NUM\", \"FlightNum\")\n",
    "      .withColumn(\"DayOfWeek\", dayofweek(\"FL_DATE\"))\n",
    "      .withColumn(\"Month\", month(\"FL_DATE\"))\n",
    "      .dropna(subset=[\"UniqueCarrier\",\"FlightNum\",\"ORIGIN\",\"DEST\",\"CRS_DEP_TIME\",\"CRS_ARR_TIME\"])\n",
    "      .filter(col(\"DIVERTED\")==0)\n",
    ")"
   ]
  },
  {
   "cell_type": "code",
   "execution_count": 16,
   "metadata": {},
   "outputs": [
    {
     "name": "stdout",
     "output_type": "stream",
     "text": [
      "+-------------+------+----+----------------------------------------+-----------------------------------------+----------+\n",
      "|UniqueCarrier|ORIGIN|DEST|rawPrediction                           |probability                              |prediction|\n",
      "+-------------+------+----+----------------------------------------+-----------------------------------------+----------+\n",
      "|MQ           |LGA   |RDU |[1.3514526901450405,-1.3514526901450405]|[0.9371978662614987,0.0628021337385013]  |0.0       |\n",
      "|MQ           |DCA   |JFK |[1.3601216936403573,-1.3601216936403573]|[0.9382106447502586,0.061789355249741384]|0.0       |\n",
      "|MQ           |LGA   |RDU |[1.3618892741278512,-1.3618892741278512]|[0.9384152658892334,0.06158473411076659] |0.0       |\n",
      "|MQ           |RDU   |LGA |[1.3168830281334136,-1.3168830281334136]|[0.9330033426864767,0.06699665731352333] |0.0       |\n",
      "|MQ           |JFK   |DCA |[1.3600811317081565,-1.3600811317081565]|[0.9382059417165779,0.061794058283422104]|0.0       |\n",
      "+-------------+------+----+----------------------------------------+-----------------------------------------+----------+\n",
      "only showing top 5 rows\n",
      "\n"
     ]
    }
   ],
   "source": [
    "pred10 = loaded_pipe.transform(df10)\n",
    "\n",
    "pred10.select(\n",
    "    \"UniqueCarrier\",\"ORIGIN\",\"DEST\",\n",
    "    \"rawPrediction\",\"probability\",\"prediction\"\n",
    ").show(5, truncate=False)"
   ]
  },
  {
   "cell_type": "code",
   "execution_count": 17,
   "metadata": {},
   "outputs": [
    {
     "name": "stderr",
     "output_type": "stream",
     "text": [
      "                                                                                \r"
     ]
    },
    {
     "name": "stdout",
     "output_type": "stream",
     "text": [
      "2010 AUC:  0.6917447448084143\n"
     ]
    },
    {
     "name": "stderr",
     "output_type": "stream",
     "text": [
      "[Stage 4192:===================================================>  (19 + 1) / 20]\r"
     ]
    },
    {
     "name": "stdout",
     "output_type": "stream",
     "text": [
      "2010 Acc:  0.9823422993319132\n"
     ]
    },
    {
     "name": "stderr",
     "output_type": "stream",
     "text": [
      "                                                                                \r"
     ]
    }
   ],
   "source": [
    "from pyspark.ml.evaluation import BinaryClassificationEvaluator, MulticlassClassificationEvaluator\n",
    "\n",
    "pred10 = pred10.withColumnRenamed(\"CANCELLED\",\"label\")\n",
    "\n",
    "b_evaluator = BinaryClassificationEvaluator(metricName=\"areaUnderROC\", labelCol=\"label\")\n",
    "m_evaluator = MulticlassClassificationEvaluator(metricName=\"accuracy\", labelCol=\"label\")\n",
    "\n",
    "print(\"2010 AUC: \", b_evaluator.evaluate(pred10))\n",
    "print(\"2010 Acc: \", m_evaluator.evaluate(pred10))"
   ]
  }
 ],
 "metadata": {
  "kernelspec": {
   "display_name": "env",
   "language": "python",
   "name": "python3"
  },
  "language_info": {
   "codemirror_mode": {
    "name": "ipython",
    "version": 3
   },
   "file_extension": ".py",
   "mimetype": "text/x-python",
   "name": "python",
   "nbconvert_exporter": "python",
   "pygments_lexer": "ipython3",
   "version": "3.12.3"
  }
 },
 "nbformat": 4,
 "nbformat_minor": 4
}
